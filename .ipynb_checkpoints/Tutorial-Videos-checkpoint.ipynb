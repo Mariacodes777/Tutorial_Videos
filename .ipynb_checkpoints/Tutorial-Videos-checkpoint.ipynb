{
 "cells": [
  {
   "cell_type": "markdown",
   "id": "dda98f0f",
   "metadata": {},
   "source": [
    "### This notebook is going to show a small sample of the tutorial videos I have made throughout my time as a Data Science Mentor to help my students better understand the material. I hope you enjoy! \n",
    "You can view them through the notebook viewer link by copy and pasting the link of this url address in the notebook viewer at the website below:"
   ]
  },
  {
   "cell_type": "code",
   "execution_count": 1,
   "id": "861313f0",
   "metadata": {},
   "outputs": [],
   "source": [
    "# https://nbviewer.org/"
   ]
  },
  {
   "cell_type": "code",
   "execution_count": 2,
   "id": "aff32cfd",
   "metadata": {},
   "outputs": [],
   "source": [
    "from IPython.display import VimeoVideo"
   ]
  },
  {
   "cell_type": "code",
   "execution_count": 3,
   "id": "cb68f18b",
   "metadata": {},
   "outputs": [
    {
     "data": {
      "text/html": [
       "\n",
       "        <iframe\n",
       "            width=\"720\"\n",
       "            height=\"480\"\n",
       "            src=\"https://player.vimeo.com/video/766220049\"\n",
       "            frameborder=\"0\"\n",
       "            allowfullscreen\n",
       "            \n",
       "        ></iframe>\n",
       "        "
      ],
      "text/plain": [
       "<IPython.lib.display.VimeoVideo at 0x110c14df0>"
      ]
     },
     "execution_count": 3,
     "metadata": {},
     "output_type": "execute_result"
    }
   ],
   "source": [
    "# MySQL tutorial going over basics to help with lessons 1 & 2.\n",
    "VimeoVideo('766220049', width=720, height=480)"
   ]
  },
  {
   "cell_type": "code",
   "execution_count": 4,
   "id": "27a1c084",
   "metadata": {},
   "outputs": [
    {
     "data": {
      "text/html": [
       "\n",
       "        <iframe\n",
       "            width=\"720\"\n",
       "            height=\"480\"\n",
       "            src=\"https://player.vimeo.com/video/766244322\"\n",
       "            frameborder=\"0\"\n",
       "            allowfullscreen\n",
       "            \n",
       "        ></iframe>\n",
       "        "
      ],
      "text/plain": [
       "<IPython.lib.display.VimeoVideo at 0x110c586d0>"
      ]
     },
     "execution_count": 4,
     "metadata": {},
     "output_type": "execute_result"
    }
   ],
   "source": [
    "# Tutorial on using jupyter notebook \n",
    "VimeoVideo('766244322', width=720, height=480)"
   ]
  },
  {
   "cell_type": "code",
   "execution_count": 5,
   "id": "4061c036",
   "metadata": {},
   "outputs": [
    {
     "data": {
      "text/html": [
       "\n",
       "        <iframe\n",
       "            width=\"720\"\n",
       "            height=\"480\"\n",
       "            src=\"https://player.vimeo.com/video/781109741\"\n",
       "            frameborder=\"0\"\n",
       "            allowfullscreen\n",
       "            \n",
       "        ></iframe>\n",
       "        "
      ],
      "text/plain": [
       "<IPython.lib.display.VimeoVideo at 0x110c58790>"
      ]
     },
     "execution_count": 5,
     "metadata": {},
     "output_type": "execute_result"
    }
   ],
   "source": [
    "# Tutorial on recoding to prep for analysis and viewing NA values\n",
    "VimeoVideo('781109741', width=720, height=480)"
   ]
  },
  {
   "cell_type": "code",
   "execution_count": 6,
   "id": "f4630b49",
   "metadata": {},
   "outputs": [
    {
     "data": {
      "text/html": [
       "\n",
       "        <iframe\n",
       "            width=\"720\"\n",
       "            height=\"480\"\n",
       "            src=\"https://player.vimeo.com/video/765834997\"\n",
       "            frameborder=\"0\"\n",
       "            allowfullscreen\n",
       "            \n",
       "        ></iframe>\n",
       "        "
      ],
      "text/plain": [
       "<IPython.lib.display.VimeoVideo at 0x110c58a00>"
      ]
     },
     "execution_count": 6,
     "metadata": {},
     "output_type": "execute_result"
    }
   ],
   "source": [
    "# Tutorial to assist with Hands on assignment for Programming in R, Lesson 3, vectors, functions, for loops.\n",
    "VimeoVideo('765834997', width=720, height=480)"
   ]
  },
  {
   "cell_type": "code",
   "execution_count": 7,
   "id": "32f3037f",
   "metadata": {},
   "outputs": [
    {
     "data": {
      "text/html": [
       "\n",
       "        <iframe\n",
       "            width=\"720\"\n",
       "            height=\"480\"\n",
       "            src=\"https://player.vimeo.com/video/773305838\"\n",
       "            frameborder=\"0\"\n",
       "            allowfullscreen\n",
       "            \n",
       "        ></iframe>\n",
       "        "
      ],
      "text/plain": [
       "<IPython.lib.display.VimeoVideo at 0x110c58f10>"
      ]
     },
     "execution_count": 7,
     "metadata": {},
     "output_type": "execute_result"
    }
   ],
   "source": [
    "# Tutorial for Python, beginning basics, similar to lesson 2 assignment, if/elif/else practice.\n",
    "VimeoVideo('773305838', width=720, height=480)"
   ]
  },
  {
   "cell_type": "code",
   "execution_count": 8,
   "id": "ec82cc15",
   "metadata": {},
   "outputs": [
    {
     "data": {
      "text/html": [
       "\n",
       "        <iframe\n",
       "            width=\"720\"\n",
       "            height=\"480\"\n",
       "            src=\"https://player.vimeo.com/video/647515154\"\n",
       "            frameborder=\"0\"\n",
       "            allowfullscreen\n",
       "            \n",
       "        ></iframe>\n",
       "        "
      ],
      "text/plain": [
       "<IPython.lib.display.VimeoVideo at 0x110c600d0>"
      ]
     },
     "execution_count": 8,
     "metadata": {},
     "output_type": "execute_result"
    }
   ],
   "source": [
    "# Tutorial from Basic Statistics, Single Sample t-Test\n",
    "VimeoVideo('647515154', width=720, height=480)"
   ]
  },
  {
   "cell_type": "code",
   "execution_count": 9,
   "id": "e08c860f",
   "metadata": {},
   "outputs": [
    {
     "data": {
      "text/html": [
       "\n",
       "        <iframe\n",
       "            width=\"720\"\n",
       "            height=\"480\"\n",
       "            src=\"https://player.vimeo.com/video/632205031\"\n",
       "            frameborder=\"0\"\n",
       "            allowfullscreen\n",
       "            \n",
       "        ></iframe>\n",
       "        "
      ],
      "text/plain": [
       "<IPython.lib.display.VimeoVideo at 0x110c60490>"
      ]
     },
     "execution_count": 9,
     "metadata": {},
     "output_type": "execute_result"
    }
   ],
   "source": [
    "# Heart Failure Dataset analysis, Machine Learning, and seaborn package visualizations\n",
    "VimeoVideo('632205031', width=720, height=480)"
   ]
  },
  {
   "cell_type": "code",
   "execution_count": 10,
   "id": "bd5d9af4",
   "metadata": {},
   "outputs": [],
   "source": [
    "# Hope you enjoyed these videos!  "
   ]
  }
 ],
 "metadata": {
  "kernelspec": {
   "display_name": "Python 3 (ipykernel)",
   "language": "python",
   "name": "python3"
  },
  "language_info": {
   "codemirror_mode": {
    "name": "ipython",
    "version": 3
   },
   "file_extension": ".py",
   "mimetype": "text/x-python",
   "name": "python",
   "nbconvert_exporter": "python",
   "pygments_lexer": "ipython3",
   "version": "3.9.14"
  }
 },
 "nbformat": 4,
 "nbformat_minor": 5
}
